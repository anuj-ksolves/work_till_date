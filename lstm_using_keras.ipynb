{
 "cells": [
  {
   "cell_type": "code",
   "execution_count": 52,
   "metadata": {},
   "outputs": [],
   "source": [
    "import numpy as np\n",
    "import matplotlib.pyplot\n",
    "import pandas as pd\n",
    "from pandas import DataFrame\n",
    "from sklearn.preprocessing import MinMaxScaler\n",
    "import tensorflow\n",
    "import keras\n",
    "from keras.models import Sequential\n",
    "from keras.layers import Dense,Activation\n",
    "from keras.layers import LSTM"
   ]
  },
  {
   "cell_type": "code",
   "execution_count": 5,
   "metadata": {},
   "outputs": [],
   "source": [
    "data=pd.read_csv(\"sales\",delimiter=\",\")\n"
   ]
  },
  {
   "cell_type": "code",
   "execution_count": 6,
   "metadata": {},
   "outputs": [],
   "source": [
    "data.to_csv(\"sales.csv\")"
   ]
  },
  {
   "cell_type": "code",
   "execution_count": 8,
   "metadata": {},
   "outputs": [
    {
     "data": {
      "text/plain": [
       "(36, 2)"
      ]
     },
     "execution_count": 8,
     "metadata": {},
     "output_type": "execute_result"
    }
   ],
   "source": [
    "data.shape"
   ]
  },
  {
   "cell_type": "code",
   "execution_count": 9,
   "metadata": {},
   "outputs": [
    {
     "data": {
      "text/html": [
       "<div>\n",
       "<style scoped>\n",
       "    .dataframe tbody tr th:only-of-type {\n",
       "        vertical-align: middle;\n",
       "    }\n",
       "\n",
       "    .dataframe tbody tr th {\n",
       "        vertical-align: top;\n",
       "    }\n",
       "\n",
       "    .dataframe thead th {\n",
       "        text-align: right;\n",
       "    }\n",
       "</style>\n",
       "<table border=\"1\" class=\"dataframe\">\n",
       "  <thead>\n",
       "    <tr style=\"text-align: right;\">\n",
       "      <th></th>\n",
       "      <th>Month</th>\n",
       "      <th>Sales</th>\n",
       "    </tr>\n",
       "  </thead>\n",
       "  <tbody>\n",
       "    <tr>\n",
       "      <th>0</th>\n",
       "      <td>1-01</td>\n",
       "      <td>266.0</td>\n",
       "    </tr>\n",
       "    <tr>\n",
       "      <th>1</th>\n",
       "      <td>1-02</td>\n",
       "      <td>145.9</td>\n",
       "    </tr>\n",
       "    <tr>\n",
       "      <th>2</th>\n",
       "      <td>1-03</td>\n",
       "      <td>183.1</td>\n",
       "    </tr>\n",
       "    <tr>\n",
       "      <th>3</th>\n",
       "      <td>1-04</td>\n",
       "      <td>119.3</td>\n",
       "    </tr>\n",
       "    <tr>\n",
       "      <th>4</th>\n",
       "      <td>1-05</td>\n",
       "      <td>180.3</td>\n",
       "    </tr>\n",
       "  </tbody>\n",
       "</table>\n",
       "</div>"
      ],
      "text/plain": [
       "  Month  Sales\n",
       "0  1-01  266.0\n",
       "1  1-02  145.9\n",
       "2  1-03  183.1\n",
       "3  1-04  119.3\n",
       "4  1-05  180.3"
      ]
     },
     "execution_count": 9,
     "metadata": {},
     "output_type": "execute_result"
    }
   ],
   "source": [
    "data.head()"
   ]
  },
  {
   "cell_type": "code",
   "execution_count": 10,
   "metadata": {},
   "outputs": [
    {
     "data": {
      "text/plain": [
       "<matplotlib.axes._subplots.AxesSubplot at 0x7f96fdea36a0>"
      ]
     },
     "execution_count": 10,
     "metadata": {},
     "output_type": "execute_result"
    },
    {
     "data": {
      "image/png": "[encoded data removed]",
      "text/plain": [
       "<Figure size 432x288 with 1 Axes>"
      ]
     },
     "metadata": {
      "needs_background": "light"
     },
     "output_type": "display_data"
    }
   ],
   "source": [
    "data.plot()"
   ]
  },
  {
   "cell_type": "code",
   "execution_count": 11,
   "metadata": {},
   "outputs": [],
   "source": [
    "x=data.values"
   ]
  },
  {
   "cell_type": "code",
   "execution_count": 12,
   "metadata": {},
   "outputs": [
    {
     "data": {
      "text/plain": [
       "array([['1-01', 266.0],\n",
       "       ['1-02', 145.9],\n",
       "       ['1-03', 183.1],\n",
       "       ['1-04', 119.3],\n",
       "       ['1-05', 180.3],\n",
       "       ['1-06', 168.5],\n",
       "       ['1-07', 231.8],\n",
       "       ['1-08', 224.5],\n",
       "       ['1-09', 192.8],\n",
       "       ['1-10', 122.9],\n",
       "       ['1-11', 336.5],\n",
       "       ['1-12', 185.9],\n",
       "       ['2-01', 194.3],\n",
       "       ['2-02', 149.5],\n",
       "       ['2-03', 210.1],\n",
       "       ['2-04', 273.3],\n",
       "       ['2-05', 191.4],\n",
       "       ['2-06', 287.0],\n",
       "       ['2-07', 226.0],\n",
       "       ['2-08', 303.6],\n",
       "       ['2-09', 289.9],\n",
       "       ['2-10', 421.6],\n",
       "       ['2-11', 264.5],\n",
       "       ['2-12', 342.3],\n",
       "       ['3-01', 339.7],\n",
       "       ['3-02', 440.4],\n",
       "       ['3-03', 315.9],\n",
       "       ['3-04', 439.3],\n",
       "       ['3-05', 401.3],\n",
       "       ['3-06', 437.4],\n",
       "       ['3-07', 575.5],\n",
       "       ['3-08', 407.6],\n",
       "       ['3-09', 682.0],\n",
       "       ['3-10', 475.3],\n",
       "       ['3-11', 581.3],\n",
       "       ['3-12', 646.9]], dtype=object)"
      ]
     },
     "execution_count": 12,
     "metadata": {},
     "output_type": "execute_result"
    }
   ],
   "source": [
    "x"
   ]
  },
  {
   "cell_type": "code",
   "execution_count": 13,
   "metadata": {},
   "outputs": [],
   "source": [
    "x_train,X_test=x[:-12],x[-12:]"
   ]
  },
  {
   "cell_type": "code",
   "execution_count": 15,
   "metadata": {},
   "outputs": [],
   "source": [
    "history=[x for x in x_train]"
   ]
  },
  {
   "cell_type": "code",
   "execution_count": 16,
   "metadata": {},
   "outputs": [
    {
     "data": {
      "text/plain": [
       "[array(['1-01', 266.0], dtype=object),\n",
       " array(['1-02', 145.9], dtype=object),\n",
       " array(['1-03', 183.1], dtype=object),\n",
       " array(['1-04', 119.3], dtype=object),\n",
       " array(['1-05', 180.3], dtype=object),\n",
       " array(['1-06', 168.5], dtype=object),\n",
       " array(['1-07', 231.8], dtype=object),\n",
       " array(['1-08', 224.5], dtype=object),\n",
       " array(['1-09', 192.8], dtype=object),\n",
       " array(['1-10', 122.9], dtype=object),\n",
       " array(['1-11', 336.5], dtype=object),\n",
       " array(['1-12', 185.9], dtype=object),\n",
       " array(['2-01', 194.3], dtype=object),\n",
       " array(['2-02', 149.5], dtype=object),\n",
       " array(['2-03', 210.1], dtype=object),\n",
       " array(['2-04', 273.3], dtype=object),\n",
       " array(['2-05', 191.4], dtype=object),\n",
       " array(['2-06', 287.0], dtype=object),\n",
       " array(['2-07', 226.0], dtype=object),\n",
       " array(['2-08', 303.6], dtype=object),\n",
       " array(['2-09', 289.9], dtype=object),\n",
       " array(['2-10', 421.6], dtype=object),\n",
       " array(['2-11', 264.5], dtype=object),\n",
       " array(['2-12', 342.3], dtype=object)]"
      ]
     },
     "execution_count": 16,
     "metadata": {},
     "output_type": "execute_result"
    }
   ],
   "source": [
    "history\n"
   ]
  },
  {
   "cell_type": "code",
   "execution_count": 17,
   "metadata": {},
   "outputs": [],
   "source": [
    "predictions=list()"
   ]
  },
  {
   "cell_type": "code",
   "execution_count": 34,
   "metadata": {},
   "outputs": [],
   "source": [
    "def timeseries(data,lag=1):\n",
    "    df=DataFrame(data)\n",
    "    columns=[df.shift(i) for i in range(1,lag+1)]\n",
    "    columns.append(df)\n",
    "    df=pd.concat(columns,axis=1)\n",
    "    df.fillna(0,inplace=True)\n",
    "    return df\n",
    "df=timeseries(data)\n",
    "    "
   ]
  },
  {
   "cell_type": "code",
   "execution_count": 35,
   "metadata": {},
   "outputs": [
    {
     "data": {
      "text/html": [
       "<div>\n",
       "<style scoped>\n",
       "    .dataframe tbody tr th:only-of-type {\n",
       "        vertical-align: middle;\n",
       "    }\n",
       "\n",
       "    .dataframe tbody tr th {\n",
       "        vertical-align: top;\n",
       "    }\n",
       "\n",
       "    .dataframe thead th {\n",
       "        text-align: right;\n",
       "    }\n",
       "</style>\n",
       "<table border=\"1\" class=\"dataframe\">\n",
       "  <thead>\n",
       "    <tr style=\"text-align: right;\">\n",
       "      <th></th>\n",
       "      <th>Month</th>\n",
       "      <th>Sales</th>\n",
       "      <th>Month</th>\n",
       "      <th>Sales</th>\n",
       "    </tr>\n",
       "  </thead>\n",
       "  <tbody>\n",
       "    <tr>\n",
       "      <th>0</th>\n",
       "      <td>0</td>\n",
       "      <td>0.0</td>\n",
       "      <td>1-01</td>\n",
       "      <td>266.0</td>\n",
       "    </tr>\n",
       "    <tr>\n",
       "      <th>1</th>\n",
       "      <td>1-01</td>\n",
       "      <td>266.0</td>\n",
       "      <td>1-02</td>\n",
       "      <td>145.9</td>\n",
       "    </tr>\n",
       "    <tr>\n",
       "      <th>2</th>\n",
       "      <td>1-02</td>\n",
       "      <td>145.9</td>\n",
       "      <td>1-03</td>\n",
       "      <td>183.1</td>\n",
       "    </tr>\n",
       "    <tr>\n",
       "      <th>3</th>\n",
       "      <td>1-03</td>\n",
       "      <td>183.1</td>\n",
       "      <td>1-04</td>\n",
       "      <td>119.3</td>\n",
       "    </tr>\n",
       "    <tr>\n",
       "      <th>4</th>\n",
       "      <td>1-04</td>\n",
       "      <td>119.3</td>\n",
       "      <td>1-05</td>\n",
       "      <td>180.3</td>\n",
       "    </tr>\n",
       "    <tr>\n",
       "      <th>5</th>\n",
       "      <td>1-05</td>\n",
       "      <td>180.3</td>\n",
       "      <td>1-06</td>\n",
       "      <td>168.5</td>\n",
       "    </tr>\n",
       "    <tr>\n",
       "      <th>6</th>\n",
       "      <td>1-06</td>\n",
       "      <td>168.5</td>\n",
       "      <td>1-07</td>\n",
       "      <td>231.8</td>\n",
       "    </tr>\n",
       "    <tr>\n",
       "      <th>7</th>\n",
       "      <td>1-07</td>\n",
       "      <td>231.8</td>\n",
       "      <td>1-08</td>\n",
       "      <td>224.5</td>\n",
       "    </tr>\n",
       "    <tr>\n",
       "      <th>8</th>\n",
       "      <td>1-08</td>\n",
       "      <td>224.5</td>\n",
       "      <td>1-09</td>\n",
       "      <td>192.8</td>\n",
       "    </tr>\n",
       "    <tr>\n",
       "      <th>9</th>\n",
       "      <td>1-09</td>\n",
       "      <td>192.8</td>\n",
       "      <td>1-10</td>\n",
       "      <td>122.9</td>\n",
       "    </tr>\n",
       "    <tr>\n",
       "      <th>10</th>\n",
       "      <td>1-10</td>\n",
       "      <td>122.9</td>\n",
       "      <td>1-11</td>\n",
       "      <td>336.5</td>\n",
       "    </tr>\n",
       "    <tr>\n",
       "      <th>11</th>\n",
       "      <td>1-11</td>\n",
       "      <td>336.5</td>\n",
       "      <td>1-12</td>\n",
       "      <td>185.9</td>\n",
       "    </tr>\n",
       "    <tr>\n",
       "      <th>12</th>\n",
       "      <td>1-12</td>\n",
       "      <td>185.9</td>\n",
       "      <td>2-01</td>\n",
       "      <td>194.3</td>\n",
       "    </tr>\n",
       "    <tr>\n",
       "      <th>13</th>\n",
       "      <td>2-01</td>\n",
       "      <td>194.3</td>\n",
       "      <td>2-02</td>\n",
       "      <td>149.5</td>\n",
       "    </tr>\n",
       "    <tr>\n",
       "      <th>14</th>\n",
       "      <td>2-02</td>\n",
       "      <td>149.5</td>\n",
       "      <td>2-03</td>\n",
       "      <td>210.1</td>\n",
       "    </tr>\n",
       "    <tr>\n",
       "      <th>15</th>\n",
       "      <td>2-03</td>\n",
       "      <td>210.1</td>\n",
       "      <td>2-04</td>\n",
       "      <td>273.3</td>\n",
       "    </tr>\n",
       "    <tr>\n",
       "      <th>16</th>\n",
       "      <td>2-04</td>\n",
       "      <td>273.3</td>\n",
       "      <td>2-05</td>\n",
       "      <td>191.4</td>\n",
       "    </tr>\n",
       "    <tr>\n",
       "      <th>17</th>\n",
       "      <td>2-05</td>\n",
       "      <td>191.4</td>\n",
       "      <td>2-06</td>\n",
       "      <td>287.0</td>\n",
       "    </tr>\n",
       "    <tr>\n",
       "      <th>18</th>\n",
       "      <td>2-06</td>\n",
       "      <td>287.0</td>\n",
       "      <td>2-07</td>\n",
       "      <td>226.0</td>\n",
       "    </tr>\n",
       "    <tr>\n",
       "      <th>19</th>\n",
       "      <td>2-07</td>\n",
       "      <td>226.0</td>\n",
       "      <td>2-08</td>\n",
       "      <td>303.6</td>\n",
       "    </tr>\n",
       "    <tr>\n",
       "      <th>20</th>\n",
       "      <td>2-08</td>\n",
       "      <td>303.6</td>\n",
       "      <td>2-09</td>\n",
       "      <td>289.9</td>\n",
       "    </tr>\n",
       "    <tr>\n",
       "      <th>21</th>\n",
       "      <td>2-09</td>\n",
       "      <td>289.9</td>\n",
       "      <td>2-10</td>\n",
       "      <td>421.6</td>\n",
       "    </tr>\n",
       "    <tr>\n",
       "      <th>22</th>\n",
       "      <td>2-10</td>\n",
       "      <td>421.6</td>\n",
       "      <td>2-11</td>\n",
       "      <td>264.5</td>\n",
       "    </tr>\n",
       "    <tr>\n",
       "      <th>23</th>\n",
       "      <td>2-11</td>\n",
       "      <td>264.5</td>\n",
       "      <td>2-12</td>\n",
       "      <td>342.3</td>\n",
       "    </tr>\n",
       "    <tr>\n",
       "      <th>24</th>\n",
       "      <td>2-12</td>\n",
       "      <td>342.3</td>\n",
       "      <td>3-01</td>\n",
       "      <td>339.7</td>\n",
       "    </tr>\n",
       "    <tr>\n",
       "      <th>25</th>\n",
       "      <td>3-01</td>\n",
       "      <td>339.7</td>\n",
       "      <td>3-02</td>\n",
       "      <td>440.4</td>\n",
       "    </tr>\n",
       "    <tr>\n",
       "      <th>26</th>\n",
       "      <td>3-02</td>\n",
       "      <td>440.4</td>\n",
       "      <td>3-03</td>\n",
       "      <td>315.9</td>\n",
       "    </tr>\n",
       "    <tr>\n",
       "      <th>27</th>\n",
       "      <td>3-03</td>\n",
       "      <td>315.9</td>\n",
       "      <td>3-04</td>\n",
       "      <td>439.3</td>\n",
       "    </tr>\n",
       "    <tr>\n",
       "      <th>28</th>\n",
       "      <td>3-04</td>\n",
       "      <td>439.3</td>\n",
       "      <td>3-05</td>\n",
       "      <td>401.3</td>\n",
       "    </tr>\n",
       "    <tr>\n",
       "      <th>29</th>\n",
       "      <td>3-05</td>\n",
       "      <td>401.3</td>\n",
       "      <td>3-06</td>\n",
       "      <td>437.4</td>\n",
       "    </tr>\n",
       "    <tr>\n",
       "      <th>30</th>\n",
       "      <td>3-06</td>\n",
       "      <td>437.4</td>\n",
       "      <td>3-07</td>\n",
       "      <td>575.5</td>\n",
       "    </tr>\n",
       "    <tr>\n",
       "      <th>31</th>\n",
       "      <td>3-07</td>\n",
       "      <td>575.5</td>\n",
       "      <td>3-08</td>\n",
       "      <td>407.6</td>\n",
       "    </tr>\n",
       "    <tr>\n",
       "      <th>32</th>\n",
       "      <td>3-08</td>\n",
       "      <td>407.6</td>\n",
       "      <td>3-09</td>\n",
       "      <td>682.0</td>\n",
       "    </tr>\n",
       "    <tr>\n",
       "      <th>33</th>\n",
       "      <td>3-09</td>\n",
       "      <td>682.0</td>\n",
       "      <td>3-10</td>\n",
       "      <td>475.3</td>\n",
       "    </tr>\n",
       "    <tr>\n",
       "      <th>34</th>\n",
       "      <td>3-10</td>\n",
       "      <td>475.3</td>\n",
       "      <td>3-11</td>\n",
       "      <td>581.3</td>\n",
       "    </tr>\n",
       "    <tr>\n",
       "      <th>35</th>\n",
       "      <td>3-11</td>\n",
       "      <td>581.3</td>\n",
       "      <td>3-12</td>\n",
       "      <td>646.9</td>\n",
       "    </tr>\n",
       "  </tbody>\n",
       "</table>\n",
       "</div>"
      ],
      "text/plain": [
       "   Month  Sales Month  Sales\n",
       "0      0    0.0  1-01  266.0\n",
       "1   1-01  266.0  1-02  145.9\n",
       "2   1-02  145.9  1-03  183.1\n",
       "3   1-03  183.1  1-04  119.3\n",
       "4   1-04  119.3  1-05  180.3\n",
       "5   1-05  180.3  1-06  168.5\n",
       "6   1-06  168.5  1-07  231.8\n",
       "7   1-07  231.8  1-08  224.5\n",
       "8   1-08  224.5  1-09  192.8\n",
       "9   1-09  192.8  1-10  122.9\n",
       "10  1-10  122.9  1-11  336.5\n",
       "11  1-11  336.5  1-12  185.9\n",
       "12  1-12  185.9  2-01  194.3\n",
       "13  2-01  194.3  2-02  149.5\n",
       "14  2-02  149.5  2-03  210.1\n",
       "15  2-03  210.1  2-04  273.3\n",
       "16  2-04  273.3  2-05  191.4\n",
       "17  2-05  191.4  2-06  287.0\n",
       "18  2-06  287.0  2-07  226.0\n",
       "19  2-07  226.0  2-08  303.6\n",
       "20  2-08  303.6  2-09  289.9\n",
       "21  2-09  289.9  2-10  421.6\n",
       "22  2-10  421.6  2-11  264.5\n",
       "23  2-11  264.5  2-12  342.3\n",
       "24  2-12  342.3  3-01  339.7\n",
       "25  3-01  339.7  3-02  440.4\n",
       "26  3-02  440.4  3-03  315.9\n",
       "27  3-03  315.9  3-04  439.3\n",
       "28  3-04  439.3  3-05  401.3\n",
       "29  3-05  401.3  3-06  437.4\n",
       "30  3-06  437.4  3-07  575.5\n",
       "31  3-07  575.5  3-08  407.6\n",
       "32  3-08  407.6  3-09  682.0\n",
       "33  3-09  682.0  3-10  475.3\n",
       "34  3-10  475.3  3-11  581.3\n",
       "35  3-11  581.3  3-12  646.9"
      ]
     },
     "execution_count": 35,
     "metadata": {},
     "output_type": "execute_result"
    }
   ],
   "source": [
    "df"
   ]
  },
  {
   "cell_type": "code",
   "execution_count": 36,
   "metadata": {},
   "outputs": [
    {
     "data": {
      "text/plain": [
       "36"
      ]
     },
     "execution_count": 36,
     "metadata": {},
     "output_type": "execute_result"
    }
   ],
   "source": [
    "len(data)"
   ]
  },
  {
   "cell_type": "code",
   "execution_count": 42,
   "metadata": {},
   "outputs": [],
   "source": [
    "def diff(dataset,interval=1):\n",
    "    diff=list()\n",
    "    for i in range(interval,len(dataset)):\n",
    "        value=dataset[i]-dataset[i-interval]\n",
    "        diff.append(value)\n",
    "    return series(diff)"
   ]
  },
  {
   "cell_type": "code",
   "execution_count": 46,
   "metadata": {},
   "outputs": [],
   "source": [
    "def scale(train,test):\n",
    "    train=MinMaxScaler.fit_transform(train)\n",
    "    test=MinMaxScalar.fit(test)\n",
    "    return train,test\n",
    "    \n",
    "    "
   ]
  },
  {
   "cell_type": "code",
   "execution_count": 51,
   "metadata": {},
   "outputs": [],
   "source": [
    "def lstm(train,batch_size,epochs,neurons):\n",
    "    X,y=train[:,0:-1],train[:,-1]\n",
    "    model=Sequential()\n",
    "    model.add(LSTM(neurons,batch_input_size=(batch_size,X.shape[1],X.shape[2],stateful=True)))\n",
    "    model.add(Dense(1))\n",
    "    model.compile(loss=\"mean_squared_error\",optimizer=\"adam\")\n",
    "    for i in range(epochs):\n",
    "        model.fit(X,y,epochs=1,batch_input_size=batch_size,verbose=1)\n",
    "        model.reset_stats()\n",
    "    return model"
   ]
  },
  {
   "cell_type": "code",
   "execution_count": null,
   "metadata": {},
   "outputs": [],
   "source": []
  }
 ],
 "metadata": {
  "kernelspec": {
   "display_name": "Python 3",
   "language": "python",
   "name": "python3"
  },
  "language_info": {
   "codemirror_mode": {
    "name": "ipython",
    "version": 3
   },
   "file_extension": ".py",
   "mimetype": "text/x-python",
   "name": "python",
   "nbconvert_exporter": "python",
   "pygments_lexer": "ipython3",
   "version": "3.7.3"
  }
 },
 "nbformat": 4,
 "nbformat_minor": 2
}
