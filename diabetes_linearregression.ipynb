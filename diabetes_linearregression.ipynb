{
 "cells": [
  {
   "cell_type": "code",
   "execution_count": 1,
   "metadata": {},
   "outputs": [
    {
     "name": "stdout",
     "output_type": "stream",
     "text": [
      "[191.18814612 142.93153266 152.85200922 110.65483982  97.39858267\n",
      " 243.0984524  123.2070905  181.71092905 164.79904912 168.07399151\n",
      "  77.83799104 187.59376511 145.94848495  72.97802022 198.01656568\n",
      " 120.215273   131.33989152  90.43211905 206.48869073  83.49306439\n",
      " 123.49412294  58.71945596 112.23922558 222.3583897   82.92176094\n",
      " 142.85041119 139.34360851 178.00097943 153.37118872 162.87057548\n",
      "  73.62592976  67.66438005 156.49120937 165.74026383  83.93150381\n",
      " 196.83520982  93.87897427 113.28159914 239.72615533 221.6986307\n",
      "  72.35114481 114.9950415  149.59252076 224.49518068 193.87439482\n",
      " 161.39198083 210.51793489  71.15658216 187.24281387 234.77586826\n",
      " 107.99459493  68.68555784 136.12695109 213.75435194 179.00692924\n",
      "  73.49046797 117.88494004  42.27163727 240.26169115 170.36911259\n",
      " 224.19664737 156.93859547 137.57213904 201.69117985 113.64485912\n",
      " 155.53734541 292.32068199  66.96111611 238.06435723 156.048806\n",
      " 133.19293445 132.89961822 110.44203887 220.12185811 191.93622652\n",
      "  85.43522541 213.18464762  51.44755652 197.22880556 200.06877869\n",
      " 182.63312517 192.00361692 164.6126411  224.14045149  89.66755934\n",
      " 153.577293   159.67387435 140.03477758 256.06348192]\n",
      "2795.7340716804406\n",
      "[  -7.5955577  -267.5170102   490.41019748  377.27880689 -852.44160677\n",
      "  477.90381007  142.01685974  227.68105956  771.11055956   56.90095862]\n"
     ]
    },
    {
     "ename": "AttributeError",
     "evalue": "'LinearRegression' object has no attribute 'accuracy_score'",
     "output_type": "error",
     "traceback": [
      "\u001b[0;31m---------------------------------------------------------------------------\u001b[0m",
      "\u001b[0;31mAttributeError\u001b[0m                            Traceback (most recent call last)",
      "\u001b[0;32m<ipython-input-1-25435b2be7a6>\u001b[0m in \u001b[0;36m<module>\u001b[0;34m\u001b[0m\n\u001b[1;32m     15\u001b[0m \u001b[0mprint\u001b[0m\u001b[0;34m(\u001b[0m\u001b[0mnp\u001b[0m\u001b[0;34m.\u001b[0m\u001b[0mmean\u001b[0m\u001b[0;34m(\u001b[0m\u001b[0;34m(\u001b[0m\u001b[0my_pred\u001b[0m\u001b[0;34m-\u001b[0m\u001b[0my_test\u001b[0m\u001b[0;34m)\u001b[0m\u001b[0;34m**\u001b[0m\u001b[0;36m2\u001b[0m\u001b[0;34m)\u001b[0m\u001b[0;34m)\u001b[0m\u001b[0;34m\u001b[0m\u001b[0;34m\u001b[0m\u001b[0m\n\u001b[1;32m     16\u001b[0m \u001b[0mprint\u001b[0m\u001b[0;34m(\u001b[0m\u001b[0mmodel\u001b[0m\u001b[0;34m.\u001b[0m\u001b[0mcoef_\u001b[0m\u001b[0;34m)\u001b[0m\u001b[0;34m\u001b[0m\u001b[0;34m\u001b[0m\u001b[0m\n\u001b[0;32m---> 17\u001b[0;31m \u001b[0mprint\u001b[0m\u001b[0;34m(\u001b[0m\u001b[0mmodel\u001b[0m\u001b[0;34m.\u001b[0m\u001b[0maccuracy_score\u001b[0m\u001b[0;34m(\u001b[0m\u001b[0my_test\u001b[0m\u001b[0;34m,\u001b[0m\u001b[0my_pred\u001b[0m\u001b[0;34m)\u001b[0m\u001b[0;34m)\u001b[0m\u001b[0;34m\u001b[0m\u001b[0;34m\u001b[0m\u001b[0m\n\u001b[0m",
      "\u001b[0;31mAttributeError\u001b[0m: 'LinearRegression' object has no attribute 'accuracy_score'"
     ]
    }
   ],
   "source": [
    "import numpy as np\n",
    "import pandas as pd\n",
    "from sklearn.linear_model import LinearRegression\n",
    "from sklearn.model_selection import train_test_split\n",
    "from sklearn.metrics import accuracy_score\n",
    "from sklearn import datasets\n",
    "diabetes=datasets.load_diabetes()\n",
    "df=pd.DataFrame(diabetes.data)\n",
    "y=diabetes.target\n",
    "X_train,x_test,y_train,y_test=train_test_split(df , y, test_size=0.2)\n",
    "model=LinearRegression()\n",
    "model.fit(X_train,y_train)\n",
    "y_pred=model.predict(x_test)\n",
    "print(y_pred)\n",
    "print(np.mean((y_pred-y_test)**2))\n",
    "print(model.coef_)\n",
    "print(model.accuracy_score(y_test,y_pred))"
   ]
  },
  {
   "cell_type": "code",
   "execution_count": null,
   "metadata": {},
   "outputs": [],
   "source": []
  }
 ],
 "metadata": {
  "kernelspec": {
   "display_name": "Python 3",
   "language": "python",
   "name": "python3"
  },
  "language_info": {
   "codemirror_mode": {
    "name": "ipython",
    "version": 3
   },
   "file_extension": ".py",
   "mimetype": "text/x-python",
   "name": "python",
   "nbconvert_exporter": "python",
   "pygments_lexer": "ipython3",
   "version": "3.7.3"
  }
 },
 "nbformat": 4,
 "nbformat_minor": 2
}
