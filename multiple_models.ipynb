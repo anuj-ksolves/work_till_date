{
 "cells": [
  {
   "cell_type": "code",
   "execution_count": 1,
   "metadata": {},
   "outputs": [
    {
     "name": "stdout",
     "output_type": "stream",
     "text": [
      "  name        score\n",
      "0  KNN  6169.426966\n",
      "1   LR  2270.095772\n",
      "2   DT  5998.404494\n"
     ]
    }
   ],
   "source": [
    "import numpy as np\n",
    "import pandas as pd\n",
    "from sklearn import datasets\n",
    "from sklearn.metrics import accuracy_score\n",
    "from sklearn.model_selection import train_test_split\n",
    "from sklearn.neighbors import KNeighborsClassifier\n",
    "from sklearn.tree import DecisionTreeClassifier\n",
    "from sklearn.linear_model import LinearRegression\n",
    "\n",
    "diabetes=datasets.load_diabetes()\n",
    "df = pd.DataFrame(diabetes.data)\n",
    "y=diabetes.target\n",
    "\n",
    "models=[]\n",
    "models.append(('KNN',KNeighborsClassifier()))\n",
    "models.append(('LR',LinearRegression()))\n",
    "models.append(('DT',DecisionTreeClassifier()))\n",
    "\n",
    "X_train,X_test,y_train,y_test=train_test_split(df,y,test_size=0.2)\n",
    "\n",
    "names=[]\n",
    "mean=[]\n",
    "for name,model in models:\n",
    "  model.fit(X_train,y_train)\n",
    "  y_pred=model.predict(X_test)\n",
    "\n",
    "  mean.append(np.mean((y_pred-y_test)**2))\n",
    "  names.append(name)\n",
    "\n",
    "tr_split=pd.DataFrame({'name': names , 'score': mean})\n",
    "print(tr_split)"
   ]
  },
  {
   "cell_type": "code",
   "execution_count": null,
   "metadata": {},
   "outputs": [],
   "source": []
  }
 ],
 "metadata": {
  "kernelspec": {
   "display_name": "Python 3",
   "language": "python",
   "name": "python3"
  },
  "language_info": {
   "codemirror_mode": {
    "name": "ipython",
    "version": 3
   },
   "file_extension": ".py",
   "mimetype": "text/x-python",
   "name": "python",
   "nbconvert_exporter": "python",
   "pygments_lexer": "ipython3",
   "version": "3.7.3"
  }
 },
 "nbformat": 4,
 "nbformat_minor": 2
}
